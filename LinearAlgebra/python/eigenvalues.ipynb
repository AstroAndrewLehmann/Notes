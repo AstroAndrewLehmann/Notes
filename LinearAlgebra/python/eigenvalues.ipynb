{
 "cells": [
  {
   "cell_type": "code",
   "execution_count": 2,
   "id": "60d55316",
   "metadata": {},
   "outputs": [],
   "source": [
    "import scipy.linalg as la\n",
    "import numpy as np"
   ]
  },
  {
   "cell_type": "code",
   "execution_count": 4,
   "id": "daf0d419",
   "metadata": {},
   "outputs": [
    {
     "name": "stdout",
     "output_type": "stream",
     "text": [
      "[-3.00000000e+00+0.j  1.00000000e+00+0.j -2.92107641e-16+0.j]\n",
      "[[ 7.37864787e-01 -7.07106781e-01 -5.77350269e-01]\n",
      " [-4.21637021e-01 -3.15622649e-16  5.77350269e-01]\n",
      " [ 5.27046277e-01  7.07106781e-01  5.77350269e-01]]\n"
     ]
    }
   ],
   "source": [
    "#  -3, 0, 1\t[-1  1 -2;  1  0  1; -2 -1 -1]\n",
    "A = [\n",
    "    [-1,1,-2],\n",
    "    [1,0,1],\n",
    "    [-2,-1,-1]\n",
    "]\n",
    "\n",
    "e_vals, e_vecs = la.eig(A,right=True)\n",
    "print(e_vals)\n",
    "print(e_vecs)"
   ]
  },
  {
   "cell_type": "code",
   "execution_count": 13,
   "id": "b8b5c32c",
   "metadata": {},
   "outputs": [
    {
     "name": "stdout",
     "output_type": "stream",
     "text": [
      "(-2.999999999999999+0j)\n",
      "[ 0.73786479 -0.42163702  0.52704628]\n",
      "\n",
      "(1.0000000000000004+0j)\n",
      "[-1.0000000e+00 -4.4635783e-16  1.0000000e+00]\n",
      "\n",
      "(-2.921076408676657e-16+0j)\n",
      "[-1.  1.  1.]\n"
     ]
    }
   ],
   "source": [
    "print(e_vals[0])\n",
    "print(np.array(e_vecs[:,0]))\n",
    "print()\n",
    "print(e_vals[1])\n",
    "print(np.array(e_vecs[:,1])*2**0.5)\n",
    "print()\n",
    "print(e_vals[2])\n",
    "print(np.array(e_vecs[:,2])*3**0.5)"
   ]
  },
  {
   "cell_type": "code",
   "execution_count": null,
   "id": "63298c4a",
   "metadata": {},
   "outputs": [],
   "source": []
  }
 ],
 "metadata": {
  "kernelspec": {
   "display_name": "Python 3 (ipykernel)",
   "language": "python",
   "name": "python3"
  },
  "language_info": {
   "codemirror_mode": {
    "name": "ipython",
    "version": 3
   },
   "file_extension": ".py",
   "mimetype": "text/x-python",
   "name": "python",
   "nbconvert_exporter": "python",
   "pygments_lexer": "ipython3",
   "version": "3.10.12"
  }
 },
 "nbformat": 4,
 "nbformat_minor": 5
}
