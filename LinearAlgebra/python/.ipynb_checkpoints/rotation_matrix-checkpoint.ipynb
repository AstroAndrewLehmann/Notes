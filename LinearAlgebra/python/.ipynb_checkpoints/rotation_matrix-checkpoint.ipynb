{
 "cells": [
  {
   "cell_type": "code",
   "execution_count": 2,
   "id": "17a86e48",
   "metadata": {},
   "outputs": [],
   "source": [
    "import numpy as np\n",
    "import matplotlib.pyplot as plt"
   ]
  },
  {
   "cell_type": "code",
   "execution_count": 3,
   "id": "f6a9209c",
   "metadata": {},
   "outputs": [],
   "source": [
    "list_points = [\n",
    "    (1,1),\n",
    "    (1,2),\n",
    "    (2,2)\n",
    "]\n",
    "theta_deg = 35\n",
    "theta_rad = theta_deg*3.1415926/180\n",
    "\n",
    "xarray=[]\n",
    "yarray=[]\n",
    "\n",
    "xarray_rot = []\n",
    "yarray_rot = []\n",
    "for point in list_points:\n",
    "    xarray.append(point[0])\n",
    "    yarray.append(point[1])\n",
    "    \n",
    "    xarray_rot.append( point[0]*np.cos(theta_rad) - point[1]*np.sin(theta_rad) )\n",
    "    yarray_rot.append( point[0]*np.sin(theta_rad) + point[1]*np.cos(theta_rad) )"
   ]
  },
  {
   "cell_type": "code",
   "execution_count": 5,
   "id": "42ef26c9",
   "metadata": {},
   "outputs": [
    {
     "data": {
      "text/plain": [
       "[<matplotlib.lines.Line2D at 0x7f3e21663c70>]"
      ]
     },
     "execution_count": 5,
     "metadata": {},
     "output_type": "execute_result"
    },
    {
     "data": {
      "image/png": "[encoded data removed]",
      "text/plain": [
       "<Figure size 640x480 with 1 Axes>"
      ]
     },
     "metadata": {},
     "output_type": "display_data"
    }
   ],
   "source": [
    "fix,ax=plt.subplots()\n",
    "ax.plot(xarray,yarray,marker='o',ls='-')"
   ]
  },
  {
   "cell_type": "code",
   "execution_count": null,
   "id": "ea57145b",
   "metadata": {},
   "outputs": [],
   "source": []
  }
 ],
 "metadata": {
  "kernelspec": {
   "display_name": "Python 3 (ipykernel)",
   "language": "python",
   "name": "python3"
  },
  "language_info": {
   "codemirror_mode": {
    "name": "ipython",
    "version": 3
   },
   "file_extension": ".py",
   "mimetype": "text/x-python",
   "name": "python",
   "nbconvert_exporter": "python",
   "pygments_lexer": "ipython3",
   "version": "3.8.10"
  }
 },
 "nbformat": 4,
 "nbformat_minor": 5
}
