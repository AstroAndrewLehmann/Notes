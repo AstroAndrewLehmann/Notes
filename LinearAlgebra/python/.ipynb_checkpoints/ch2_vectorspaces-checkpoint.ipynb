{
 "cells": [
  {
   "cell_type": "code",
   "execution_count": 60,
   "id": "d9bfbb94",
   "metadata": {},
   "outputs": [],
   "source": [
    "import numpy as np\n",
    "import matplotlib.pyplot as plt\n",
    "plt.rcParams['text.usetex'] = True"
   ]
  },
  {
   "cell_type": "code",
   "execution_count": 23,
   "id": "7971cc08",
   "metadata": {},
   "outputs": [
    {
     "data": {
      "text/plain": [
       "[<matplotlib.lines.Line2D at 0x7fcd7bdc30d0>]"
      ]
     },
     "execution_count": 23,
     "metadata": {},
     "output_type": "execute_result"
    },
    {
     "data": {
      "image/png": "[encoded data removed]",
      "text/plain": [
       "<Figure size 600x600 with 1 Axes>"
      ]
     },
     "metadata": {},
     "output_type": "display_data"
    }
   ],
   "source": [
    "v1 = np.array([1,3]) #v1\n",
    "v2 = np.array([3,1]) #v2\n",
    "\n",
    "v3 = v1 + v2 # v3 = v1 + v2\n",
    "\n",
    "fig,ax = plt.subplots(figsize=(6,6))\n",
    "\n",
    "ax.axhline(y=0,ls='-',color='black')\n",
    "ax.axvline(x=0,ls='-',color='black')\n",
    "\n",
    "# origin to v1\n",
    "ax.annotate('', xy=(v1[0],v1[1]),xycoords='data',xytext=(0,0), fontsize=15,\n",
    "        textcoords='data',arrowprops=dict(arrowstyle=\"->\",color='crimson'),\n",
    "        horizontalalignment='center',verticalalignment='center',color='C0')\n",
    "\n",
    "# origin to v2\n",
    "ax.annotate('', xy=(v2[0],v2[1]),xycoords='data',xytext=(0,0), fontsize=15,\n",
    "        textcoords='data',arrowprops=dict(arrowstyle=\"->\",color='C0'),\n",
    "        horizontalalignment='center',verticalalignment='center',color='C0')\n",
    "\n",
    "# origin to v3\n",
    "ax.annotate('', xy=(v3[0],v3[1]),xycoords='data',xytext=(0,0), fontsize=15,\n",
    "        textcoords='data',arrowprops=dict(arrowstyle=\"->\",color='black'),\n",
    "        horizontalalignment='center',verticalalignment='center',color='C0')\n",
    "\n",
    "\n",
    "# v2 to v3 (v1 at tip of v2)\n",
    "ax.annotate('', xy=(v3[0],v3[1]),xycoords='data',xytext=(v2[0],v2[1]), fontsize=15,\n",
    "        textcoords='data',arrowprops=dict(arrowstyle=\"->\",color='crimson'),\n",
    "        horizontalalignment='center',verticalalignment='center',color='C0')\n",
    "\n",
    "# v1 to v3 (v2 at tip of v1)\n",
    "ax.annotate('', xy=(v3[0],v3[1]),xycoords='data',xytext=(v1[0],v1[1]), fontsize=15,\n",
    "        textcoords='data',arrowprops=dict(arrowstyle=\"->\",color='C0'),\n",
    "        horizontalalignment='center',verticalalignment='center',color='C0')\n",
    "\n",
    "squareside=4\n",
    "centerx=2\n",
    "centery=2\n",
    "ax.set_xlim([centerx-squareside,centerx+squareside])\n",
    "ax.set_ylim([centery-squareside,centery+squareside])\n",
    "\n",
    "ax.spines['left'].set_position(('data', 0))\n",
    "ax.spines['bottom'].set_position(('data', 0))\n",
    "ax.spines['top'].set_visible(False)\n",
    "ax.spines['right'].set_visible(False)\n",
    "ax.set_xticklabels([])\n",
    "ax.set_yticklabels([])\n",
    "ax.plot(1, 0, \">k\", transform=ax.get_yaxis_transform(), clip_on=False)\n",
    "ax.plot(0, 1, \"^k\", transform=ax.get_xaxis_transform(), clip_on=False)"
   ]
  },
  {
   "cell_type": "code",
   "execution_count": 27,
   "id": "d38930c3",
   "metadata": {},
   "outputs": [],
   "source": [
    "from ipywidgets import interact, interactive, fixed, interact_manual\n",
    "import ipywidgets as widgets\n",
    "%matplotlib inline"
   ]
  },
  {
   "cell_type": "code",
   "execution_count": 37,
   "id": "ef9f6b33",
   "metadata": {},
   "outputs": [
    {
     "data": {
      "text/plain": [
       "<Figure size 600x600 with 0 Axes>"
      ]
     },
     "metadata": {},
     "output_type": "display_data"
    },
    {
     "data": {
      "application/vnd.jupyter.widget-view+json": {
       "model_id": "8f6948a68f334b1790ee285eebb3146c",
       "version_major": 2,
       "version_minor": 0
      },
      "text/plain": [
       "interactive(children=(FloatSlider(value=1.0, description='v1x', max=4.0, min=-2.0), FloatSlider(value=3.0, des…"
      ]
     },
     "metadata": {},
     "output_type": "display_data"
    },
    {
     "data": {
      "text/plain": [
       "<function __main__.plot_func(v1x, v1y)>"
      ]
     },
     "execution_count": 37,
     "metadata": {},
     "output_type": "execute_result"
    }
   ],
   "source": [
    "fig = plt.figure(figsize=(6,6))\n",
    "def plot_func(v1x,v1y):\n",
    "    # plot setup\n",
    "    #fig,ax = plt.subplots(figsize=(6,6))\n",
    "    \n",
    "    plt.axhline(y=0,ls='-',color='black')\n",
    "    ax.axvline(x=0,ls='-',color='black')\n",
    "\n",
    "    squareside=4\n",
    "    centerx=2\n",
    "    centery=2\n",
    "    ax.set_xlim([centerx-squareside,centerx+squareside])\n",
    "    ax.set_ylim([centery-squareside,centery+squareside])\n",
    "\n",
    "    ax.spines['left'].set_position(('data', 0))\n",
    "    ax.spines['bottom'].set_position(('data', 0))\n",
    "    ax.spines['top'].set_visible(False)\n",
    "    ax.spines['right'].set_visible(False)\n",
    "    ax.set_xticklabels([])\n",
    "    ax.set_yticklabels([])\n",
    "    ax.plot(1, 0, \">k\", transform=ax.get_yaxis_transform(), clip_on=False)\n",
    "    ax.plot(0, 1, \"^k\", transform=ax.get_xaxis_transform(), clip_on=False)\n",
    "    \n",
    "    \n",
    "\n",
    "    v1 = np.array([v1x,v1y]) #v1\n",
    "    v2 = np.array([3,1]) #v2\n",
    "    v3 = v1 + v2 # v3 = v1 + v2\n",
    "\n",
    "    # origin to v1\n",
    "    ax.annotate('', xy=(v1[0],v1[1]),xycoords='data',xytext=(0,0), fontsize=15,\n",
    "            textcoords='data',arrowprops=dict(arrowstyle=\"->\",color='crimson'),\n",
    "            horizontalalignment='center',verticalalignment='center',color='C0')\n",
    "\n",
    "    # origin to v2\n",
    "    ax.annotate('', xy=(v2[0],v2[1]),xycoords='data',xytext=(0,0), fontsize=15,\n",
    "            textcoords='data',arrowprops=dict(arrowstyle=\"->\",color='C0'),\n",
    "            horizontalalignment='center',verticalalignment='center',color='C0')\n",
    "\n",
    "    # origin to v3\n",
    "    ax.annotate('', xy=(v3[0],v3[1]),xycoords='data',xytext=(0,0), fontsize=15,\n",
    "            textcoords='data',arrowprops=dict(arrowstyle=\"->\",color='black'),\n",
    "            horizontalalignment='center',verticalalignment='center',color='C0')\n",
    "\n",
    "\n",
    "    # v2 to v3 (v1 at tip of v2)\n",
    "    ax.annotate('', xy=(v3[0],v3[1]),xycoords='data',xytext=(v2[0],v2[1]), fontsize=15,\n",
    "            textcoords='data',arrowprops=dict(arrowstyle=\"->\",color='crimson'),\n",
    "            horizontalalignment='center',verticalalignment='center',color='C0')\n",
    "\n",
    "    # v1 to v3 (v2 at tip of v1)\n",
    "    ax.annotate('', xy=(v3[0],v3[1]),xycoords='data',xytext=(v1[0],v1[1]), fontsize=15,\n",
    "            textcoords='data',arrowprops=dict(arrowstyle=\"->\",color='C0'),\n",
    "            horizontalalignment='center',verticalalignment='center',color='C0')\n",
    "    \n",
    "    #plt.plot([v1x,v1y], [v1y,v1x])\n",
    "    #plt.ylim([-2.1,2.1])\n",
    "    #plt.xlim([-2.1,2.1])\n",
    "\n",
    "v1x_slider = widgets.FloatSlider(value=1,min=-2,max=4,step=0.1)\n",
    "v1y_slider = widgets.FloatSlider(value=3,min=-2,max=4,step=0.1)\n",
    "interact(plot_func, v1x = v1x_slider, v1y = v1y_slider)"
   ]
  },
  {
   "cell_type": "code",
   "execution_count": 74,
   "id": "1046cf00",
   "metadata": {},
   "outputs": [
    {
     "data": {
      "text/plain": [
       "<Figure size 600x600 with 0 Axes>"
      ]
     },
     "metadata": {},
     "output_type": "display_data"
    },
    {
     "data": {
      "application/vnd.jupyter.widget-view+json": {
       "model_id": "0bd37f646a6d45bc8ae58a9a4d832abf",
       "version_major": 2,
       "version_minor": 0
      },
      "text/plain": [
       "interactive(children=(FloatSlider(value=2.0, description='vx', max=3.0, min=-3.0), FloatSlider(value=1.0, desc…"
      ]
     },
     "metadata": {},
     "output_type": "display_data"
    },
    {
     "data": {
      "text/plain": [
       "<function __main__.plot_func(vx, vy, ux, uy)>"
      ]
     },
     "execution_count": 74,
     "metadata": {},
     "output_type": "execute_result"
    }
   ],
   "source": [
    "fig = plt.figure(figsize=(6,6))\n",
    "squareside=6\n",
    "centerx=0\n",
    "centery=0\n",
    "\n",
    "def plot_func(vx,vy,ux,uy):\n",
    "    plt.xlim([centerx-squareside,centerx+squareside])\n",
    "    plt.ylim([centery-squareside,centery+squareside])\n",
    "    plt.axhline(y=0,ls='-',color='black')\n",
    "    plt.axvline(x=0,ls='-',color='black')\n",
    "    v = np.array([vx,vy]) #v1\n",
    "    u = np.array([ux,uy]) #v2\n",
    "    w = v + u # v3 = v1 + v2\n",
    "\n",
    "    # origin to v\n",
    "    plt.annotate('', xytext=(v[0],v[1]),xycoords='data',xy=(0,0), fontsize=15,\n",
    "            textcoords='data',arrowprops=dict(arrowstyle=\"<-\",color='crimson'))\n",
    "    vlab = plt.text(v[0]/2, v[1]/2, r'$v$', va='center', ha='center', fontsize=15)\n",
    "    vlab.set_bbox(dict(facecolor='white', alpha=0.7, edgecolor='none'))\n",
    "\n",
    "    # origin to u\n",
    "    plt.annotate('', xy=(u[0],u[1]),xycoords='data',xytext=(0,0), fontsize=15,\n",
    "            textcoords='data',arrowprops=dict(arrowstyle=\"->\",color='C0'),\n",
    "            horizontalalignment='center',verticalalignment='center',color='C0')\n",
    "    ulab = plt.text(u[0]/2, u[1]/2, r'$u$', va='center', ha='center', fontsize=15)\n",
    "    ulab.set_bbox(dict(facecolor='white', alpha=0.7, edgecolor='none'))\n",
    "\n",
    "    # origin to w\n",
    "    plt.annotate('', xy=(w[0],w[1]),xycoords='data',xytext=(0,0), fontsize=15,\n",
    "            textcoords='data',arrowprops=dict(arrowstyle=\"->\",color='black'),\n",
    "            horizontalalignment='center',verticalalignment='center',color='C0')\n",
    "    \n",
    "    wlab = plt.text(1.1*w[0], 1.1*w[1], r'$v+u$', va='center', ha='center', fontsize=15)\n",
    "    wlab.set_bbox(dict(facecolor='white', alpha=0.7, edgecolor='none'))\n",
    "\n",
    "\n",
    "    # u to w (v at tip of u)\n",
    "    plt.annotate('', xy=(w[0],w[1]),xycoords='data',xytext=(u[0],u[1]), fontsize=15,\n",
    "            textcoords='data',arrowprops=dict(arrowstyle=\"->\",color='crimson'),\n",
    "            horizontalalignment='center',verticalalignment='center',color='C0')\n",
    "\n",
    "    # v to w (u at tip of v)\n",
    "    plt.annotate('', xy=(w[0],w[1]),xycoords='data',xytext=(v[0],v[1]), fontsize=15,\n",
    "            textcoords='data',arrowprops=dict(arrowstyle=\"->\",color='C0'),\n",
    "            horizontalalignment='center',verticalalignment='center',color='C0')\n",
    "\n",
    "\n",
    "vx_slider = widgets.FloatSlider(value=2,min=-3,max=3,step=0.1)\n",
    "vy_slider = widgets.FloatSlider(value=1,min=-3,max=3,step=0.1)\n",
    "ux_slider = widgets.FloatSlider(value=-1,min=-3,max=3,step=0.1)\n",
    "uy_slider = widgets.FloatSlider(value=2,min=-3,max=3,step=0.1)\n",
    "interact(plot_func, vx=vx_slider, vy=vy_slider, ux=ux_slider, uy=uy_slider)"
   ]
  },
  {
   "cell_type": "code",
   "execution_count": null,
   "id": "0134b3cd",
   "metadata": {},
   "outputs": [],
   "source": []
  }
 ],
 "metadata": {
  "kernelspec": {
   "display_name": "Python 3 (ipykernel)",
   "language": "python",
   "name": "python3"
  },
  "language_info": {
   "codemirror_mode": {
    "name": "ipython",
    "version": 3
   },
   "file_extension": ".py",
   "mimetype": "text/x-python",
   "name": "python",
   "nbconvert_exporter": "python",
   "pygments_lexer": "ipython3",
   "version": "3.8.10"
  }
 },
 "nbformat": 4,
 "nbformat_minor": 5
}
